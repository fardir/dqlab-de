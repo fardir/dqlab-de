{
 "cells": [
  {
   "attachments": {},
   "cell_type": "markdown",
   "metadata": {},
   "source": [
    "<h1>Fundamental SQL Using INNER JOIN and UNION</h1>"
   ]
  },
  {
   "attachments": {},
   "cell_type": "markdown",
   "metadata": {},
   "source": [
    "# 1. Penggabungan Tabel dari Relasi Kolom"
   ]
  },
  {
   "attachments": {},
   "cell_type": "markdown",
   "metadata": {},
   "source": [
    "## 1.1 Tugas Praktek"
   ]
  },
  {
   "attachments": {},
   "cell_type": "markdown",
   "metadata": {},
   "source": [
    "```SQL\n",
    "select * from ms_item_kategori;\n",
    "select * from ms_item_warna;\n",
    "```"
   ]
  },
  {
   "attachments": {},
   "cell_type": "markdown",
   "metadata": {},
   "source": [
    "## 1.2 Menggabungkan Tabel dengan Key Columns"
   ]
  },
  {
   "attachments": {},
   "cell_type": "markdown",
   "metadata": {},
   "source": [
    "```SQL\n",
    "select * from ms_item_kategori, ms_item_warna\n",
    "where nama_barang=nama_item;\n",
    "```"
   ]
  },
  {
   "attachments": {},
   "cell_type": "markdown",
   "metadata": {},
   "source": [
    "## 1.3 Bagaimana jika urutan Tabel diubah?"
   ]
  },
  {
   "attachments": {},
   "cell_type": "markdown",
   "metadata": {},
   "source": [
    "```SQL\n",
    "select * from ms_item_warna, ms_item_kategori\n",
    "where nama_barang = nama_item;\n",
    "```"
   ]
  },
  {
   "attachments": {},
   "cell_type": "markdown",
   "metadata": {},
   "source": [
    "## 1.4 Menggunakan Prefix Nama Tabel"
   ]
  },
  {
   "attachments": {},
   "cell_type": "markdown",
   "metadata": {},
   "source": [
    "```SQL\n",
    "select ms_item_kategori.*, ms_item_warna.*\n",
    "from ms_item_warna, ms_item_kategori\n",
    "where nama_barang = nama_item;\n",
    "```"
   ]
  },
  {
   "attachments": {},
   "cell_type": "markdown",
   "metadata": {},
   "source": [
    "## 1.5 Penggabungan Tanpa Kondisi"
   ]
  },
  {
   "attachments": {},
   "cell_type": "markdown",
   "metadata": {},
   "source": [
    "mekanisme **cross join**"
   ]
  },
  {
   "attachments": {},
   "cell_type": "markdown",
   "metadata": {},
   "source": [
    "```SQL\n",
    "select * from ms_item_kategori, ms_item_warna;\n",
    "```"
   ]
  },
  {
   "attachments": {},
   "cell_type": "markdown",
   "metadata": {},
   "source": [
    "# 2. INNER JOIN"
   ]
  },
  {
   "attachments": {},
   "cell_type": "markdown",
   "metadata": {},
   "source": [
    "## 2.1 Tugas Praktek: Menggunakan INNER JOIN (1/3)"
   ]
  },
  {
   "attachments": {},
   "cell_type": "markdown",
   "metadata": {},
   "source": [
    "```SQL\n",
    "select * from ms_item_warna\n",
    "inner join ms_item_kategori\n",
    "on ms_item_warna.nama_barang = ms_item_kategori.nama_item;\n",
    "```"
   ]
  },
  {
   "attachments": {},
   "cell_type": "markdown",
   "metadata": {},
   "source": [
    "## 2.2 tabel tr_penjualan dan tabel ms_produk"
   ]
  },
  {
   "attachments": {},
   "cell_type": "markdown",
   "metadata": {},
   "source": [
    "```SQL\n",
    "select * from tr_penjualan;\n",
    "select * from ms_produk;\n",
    "```"
   ]
  },
  {
   "attachments": {},
   "cell_type": "markdown",
   "metadata": {},
   "source": [
    "## 2.3 Tugas Praktek: Menggunakan INNER JOIN (2/3)"
   ]
  },
  {
   "attachments": {},
   "cell_type": "markdown",
   "metadata": {},
   "source": [
    "```SQL\n",
    "select * from tr_penjualan\n",
    "inner join ms_produk\n",
    "on tr_penjualan.kode_produk = ms_produk.kode_produk;\n",
    "```"
   ]
  },
  {
   "attachments": {},
   "cell_type": "markdown",
   "metadata": {},
   "source": [
    "## 2.4 Tugas Praktek: Menggunakan INNER JOIN (3/3)"
   ]
  },
  {
   "attachments": {},
   "cell_type": "markdown",
   "metadata": {},
   "source": [
    "Catatan:\n",
    "Perlu diperhatikan jika menampilkan kolom dengan nama yang sama di kedua tabel, maka pada bagian **Select**, tidak bisa hanya mengetikkan nama kolom saja, tetapi juga harus didahului oleh prefix nama tabel dimana kolom itu berasal untuk menghindari error karena ambiguitas\""
   ]
  },
  {
   "attachments": {},
   "cell_type": "markdown",
   "metadata": {},
   "source": [
    "```SQL\n",
    "SELECT tr_penjualan.kode_transaksi, tr_penjualan.kode_pelanggan, tr_penjualan.kode_produk, \n",
    "tr_penjualan.qty, ms_produk.nama_produk, ms_produk.harga, \n",
    "ms_produk.harga * tr_penjualan.qty as total\n",
    "FROM tr_penjualan\n",
    "INNER JOIN ms_produk\n",
    "ON tr_penjualan.kode_produk = ms_produk.kode_produk;\n",
    "```"
   ]
  },
  {
   "attachments": {},
   "cell_type": "markdown",
   "metadata": {},
   "source": [
    "# 3. UNION"
   ]
  },
  {
   "attachments": {},
   "cell_type": "markdown",
   "metadata": {},
   "source": [
    "* Setiap hasil dari SELECT statement yang akan digabungkan (UNION) memiliki jumlah kolom yang sama\n",
    "* Kolom tersebut juga harus memiliki tipe data yang sama, dan\n",
    "* Kolom tersebut memiliki urutan posisi yang sama."
   ]
  },
  {
   "attachments": {},
   "cell_type": "markdown",
   "metadata": {},
   "source": [
    "## 3.1 Tabel yang Akan Digabungkan"
   ]
  },
  {
   "attachments": {},
   "cell_type": "markdown",
   "metadata": {},
   "source": [
    "```SQL\n",
    "select * from tabel_A;\n",
    "select * from tabel_B;\n",
    "```"
   ]
  },
  {
   "attachments": {},
   "cell_type": "markdown",
   "metadata": {},
   "source": [
    "## 3.2 Menggunakan UNION"
   ]
  },
  {
   "attachments": {},
   "cell_type": "markdown",
   "metadata": {},
   "source": [
    "```SQL\n",
    "select * from tabel_A\n",
    "union\n",
    "select * from tabel_B;\n",
    "```"
   ]
  },
  {
   "attachments": {},
   "cell_type": "markdown",
   "metadata": {},
   "source": [
    "## 3.3 Menggunakan UNION dengan Klausa WHERE"
   ]
  },
  {
   "attachments": {},
   "cell_type": "markdown",
   "metadata": {},
   "source": [
    "```SQL\n",
    "select * from tabel_a\n",
    "where kode_pelanggan = 'dqlabcust03'\n",
    "union\n",
    "select * from tabel_b\n",
    "where kode_pelanggan = 'dqlabcust03';\n",
    "```"
   ]
  },
  {
   "attachments": {},
   "cell_type": "markdown",
   "metadata": {},
   "source": [
    "## 3.4 Menggunakan UNION dan Menyelaraskan Kolom-Kolomnya."
   ]
  },
  {
   "attachments": {},
   "cell_type": "markdown",
   "metadata": {},
   "source": [
    "```SQL\n",
    "select customername, contactname, city, postalcode\n",
    "from customers\n",
    "union\n",
    "select suppliername, contactname, city, postalcode\n",
    "from suppliers;\n",
    "```"
   ]
  },
  {
   "attachments": {},
   "cell_type": "markdown",
   "metadata": {},
   "source": [
    "# 4. Mini Project"
   ]
  },
  {
   "attachments": {},
   "cell_type": "markdown",
   "metadata": {},
   "source": [
    "## 4.1 Project INNER JOIN"
   ]
  },
  {
   "attachments": {},
   "cell_type": "markdown",
   "metadata": {},
   "source": [
    "```SQL\n",
    "select distinct ms_pelanggan.kode_pelanggan, ms_pelanggan.nama_customer, ms_pelanggan.alamat\n",
    "from ms_pelanggan\n",
    "inner join tr_penjualan\n",
    "on ms_pelanggan.kode_pelanggan = tr_penjualan.kode_pelanggan\n",
    "where tr_penjualan.nama_produk = 'Kotak Pensil DQLab' \n",
    "or tr_penjualan.nama_produk = 'Flashdisk DQLab 32 GB' \n",
    "or tr_penjualan.nama_produk = 'Sticky Notes DQLab 500 sheets';\n",
    "```"
   ]
  },
  {
   "attachments": {},
   "cell_type": "markdown",
   "metadata": {},
   "source": [
    "## 4.2 Project UNION"
   ]
  },
  {
   "attachments": {},
   "cell_type": "markdown",
   "metadata": {},
   "source": [
    "```SQL\n",
    "select kode_produk, nama_produk, harga\n",
    "from ms_produk_1\n",
    "where harga < 100000\n",
    "union\n",
    "select kode_produk, nama_produk, harga\n",
    "from ms_produk_2\n",
    "where harga < 50000;\n",
    "```"
   ]
  }
 ],
 "metadata": {
  "kernelspec": {
   "display_name": "srec",
   "language": "python",
   "name": "python3"
  },
  "language_info": {
   "name": "python",
   "version": "3.10.8"
  },
  "orig_nbformat": 4,
  "vscode": {
   "interpreter": {
    "hash": "6d2847944c2ac7c39f466e47c58ba16e85cccd6db94063d510e9216e9bcdba96"
   }
  }
 },
 "nbformat": 4,
 "nbformat_minor": 2
}
