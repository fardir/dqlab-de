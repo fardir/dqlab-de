{
 "cells": [
  {
   "attachments": {},
   "cell_type": "markdown",
   "metadata": {},
   "source": [
    "<h1>Fundamental SQL Using FUNCTION and GROUP BY</h1>"
   ]
  },
  {
   "attachments": {},
   "cell_type": "markdown",
   "metadata": {},
   "source": [
    "# 1. Fungsi di SQL"
   ]
  },
  {
   "attachments": {},
   "cell_type": "markdown",
   "metadata": {},
   "source": [
    "## 1.1 Fungsi Skalar Matematika - ABS()"
   ]
  },
  {
   "attachments": {},
   "cell_type": "markdown",
   "metadata": {},
   "source": [
    "```SQL\n",
    "select studentid, firstname, lastname, semester1, semester2, abs(markgrowth) as markgrowth\n",
    "from students;\n",
    "```"
   ]
  },
  {
   "attachments": {},
   "cell_type": "markdown",
   "metadata": {},
   "source": [
    "## 1.2 Fungsi Skalar Matematika - CEILING()"
   ]
  },
  {
   "attachments": {},
   "cell_type": "markdown",
   "metadata": {},
   "source": [
    "```SQL\n",
    "select studentid, firstname, lastname, ceiling(semester1) as semester1, ceiling(semester2) as semester2, markgrowth\n",
    "from students;\n",
    "```"
   ]
  },
  {
   "attachments": {},
   "cell_type": "markdown",
   "metadata": {},
   "source": [
    "## 1.3 Fungsi Skalar Matematika - FLOOR()"
   ]
  },
  {
   "attachments": {},
   "cell_type": "markdown",
   "metadata": {},
   "source": [
    "```SQL\n",
    "select studentid, firstname, lastname, floor(semester1) as semester1, floor(semester2) as semester2, markgrowth\n",
    "from students;\n",
    "```"
   ]
  },
  {
   "attachments": {},
   "cell_type": "markdown",
   "metadata": {},
   "source": [
    "## 1.4 Fungsi Skalar Matematika - ROUND()"
   ]
  },
  {
   "attachments": {},
   "cell_type": "markdown",
   "metadata": {},
   "source": [
    "```SQL\n",
    "select studentid, firstname, lastname, round(semester1, 1) as semester1, round(semester2, 0) as semester2, markgrowth\n",
    "from students;\n",
    "```"
   ]
  },
  {
   "attachments": {},
   "cell_type": "markdown",
   "metadata": {},
   "source": [
    "## 1.5  Fungsi Skalar Matematika - SQRT()"
   ]
  },
  {
   "attachments": {},
   "cell_type": "markdown",
   "metadata": {},
   "source": [
    "```SQL\n",
    "select studentid, firstname, lastname, sqrt(semester1) as semester1, semester2, markgrowth\n",
    "from students;\n",
    "```"
   ]
  },
  {
   "attachments": {},
   "cell_type": "markdown",
   "metadata": {},
   "source": [
    "## 1.6 Tugas Praktek"
   ]
  },
  {
   "attachments": {},
   "cell_type": "markdown",
   "metadata": {},
   "source": [
    "```SQL\n",
    "select studentid, firstname, lastname, mod(semester1, 2) as semester1, semester2, exp(markgrowth)\n",
    "from students;\n",
    "```"
   ]
  },
  {
   "attachments": {},
   "cell_type": "markdown",
   "metadata": {},
   "source": [
    "# 2. Fungsi Text di SQL"
   ]
  },
  {
   "attachments": {},
   "cell_type": "markdown",
   "metadata": {},
   "source": [
    "## 2.1 Fungsi Text - CONCAT()"
   ]
  },
  {
   "attachments": {},
   "cell_type": "markdown",
   "metadata": {},
   "source": [
    "```SQL\n",
    "select studentid, concat(firstname, lastname) as name, semester1, semester2, markgrowth\n",
    "from students;\n",
    "```"
   ]
  },
  {
   "attachments": {},
   "cell_type": "markdown",
   "metadata": {},
   "source": [
    "## 2.2 Fungsi Text - SUBSTRING_INDEX()"
   ]
  },
  {
   "attachments": {},
   "cell_type": "markdown",
   "metadata": {},
   "source": [
    "```SQL\n",
    "select studentid, substring_index(email, '@', 1) as name\n",
    "from students;\n",
    "```"
   ]
  },
  {
   "attachments": {},
   "cell_type": "markdown",
   "metadata": {},
   "source": [
    "## 2.3 Fungsi Text - SUBSTR()"
   ]
  },
  {
   "attachments": {},
   "cell_type": "markdown",
   "metadata": {},
   "source": [
    "```SQL\n",
    "select studentid, substr(firstname, 2, 3) as initial\n",
    "from students;\n",
    "```"
   ]
  },
  {
   "attachments": {},
   "cell_type": "markdown",
   "metadata": {},
   "source": [
    "## 2.4 Fungsi Text - LENGTH()"
   ]
  },
  {
   "attachments": {},
   "cell_type": "markdown",
   "metadata": {},
   "source": [
    "```SQL\n",
    "select studentid, firstname, length(firstname) as total_char\n",
    "from students;\n",
    "```"
   ]
  },
  {
   "attachments": {},
   "cell_type": "markdown",
   "metadata": {},
   "source": [
    "## 2.5 Fungsi Text - REPLACE()"
   ]
  },
  {
   "attachments": {},
   "cell_type": "markdown",
   "metadata": {},
   "source": [
    "```SQL\n",
    "select studentid, email, replace(email, 'yahoo', 'gmail') as new_email\n",
    "from students;\n",
    "```"
   ]
  },
  {
   "attachments": {},
   "cell_type": "markdown",
   "metadata": {},
   "source": [
    "## 2.6 Tugas Praktek"
   ]
  },
  {
   "attachments": {},
   "cell_type": "markdown",
   "metadata": {},
   "source": [
    "```SQL\n",
    "select studentid, upper(firstname) as firstname, lower(lastname) as lastname\n",
    "from students;\n",
    "```"
   ]
  },
  {
   "attachments": {},
   "cell_type": "markdown",
   "metadata": {},
   "source": [
    "# 3. Fungsi Aggregate dan Group By"
   ]
  },
  {
   "attachments": {},
   "cell_type": "markdown",
   "metadata": {},
   "source": [
    "Hal penting yang perlu diperhatikan adalah: \n",
    "- GROUP BY digunakan dengan SELECT, artinya kolom yang digunakan di GROUP BY statement, juga perlu ditempatkan di SELECT.\n",
    "- GROUP BY ditempatkan **setelah** WHERE, tetapi jika tidak menggunakan WHERE maka langsung ditempatkan **setelah** FROM. \n",
    "- Jika menggunakan ORDER BY, maka GROUP BY ditempatkan **sebelum** ORDER BY. \n",
    "\n",
    "\n",
    "GROUP BY Single Column, data dikelompokkan menggunakan kriteria dari **satu kolom saja**, misalnya mengelompokkan data berdasarkan provinsi saja. \n",
    "GROUP BY Multiple Column, data dikelompokkan menggunakan kriteria dari **dua kolom atau lebih**, misalnya mengelompokkan data berdasarkan province dan brand.\n"
   ]
  },
  {
   "attachments": {},
   "cell_type": "markdown",
   "metadata": {},
   "source": [
    "## 3.1 Fungsi Aggregate - SUM()"
   ]
  },
  {
   "attachments": {},
   "cell_type": "markdown",
   "metadata": {},
   "source": [
    "```SQL\n",
    "select sum(semester1) as total_1, sum(semester2) as total_2\n",
    "from students;\n",
    "```"
   ]
  },
  {
   "attachments": {},
   "cell_type": "markdown",
   "metadata": {},
   "source": [
    "## 3.2 Fungsi Aggregate - COUNT()"
   ]
  },
  {
   "attachments": {},
   "cell_type": "markdown",
   "metadata": {},
   "source": [
    "```SQL\n",
    "select count(firstname) as total_student\n",
    "from students;\n",
    "```"
   ]
  },
  {
   "attachments": {},
   "cell_type": "markdown",
   "metadata": {},
   "source": [
    "## 3.3 Fungsi Aggregate - AVG()"
   ]
  },
  {
   "attachments": {},
   "cell_type": "markdown",
   "metadata": {},
   "source": [
    "```SQL\n",
    "select avg(semester1) as avg_1, avg(semester2) as avg_2\n",
    "from students;\n",
    "```"
   ]
  },
  {
   "attachments": {},
   "cell_type": "markdown",
   "metadata": {},
   "source": [
    "## 3.4 Tugas Praktek"
   ]
  },
  {
   "attachments": {},
   "cell_type": "markdown",
   "metadata": {},
   "source": [
    "```SQL\n",
    "select min(semester1) as min1, max(semester1) as max1, min(semester2) as min2, max(semester2) as max2\n",
    "from students;\n",
    "```"
   ]
  },
  {
   "attachments": {},
   "cell_type": "markdown",
   "metadata": {},
   "source": [
    "## 3.5 Group by Single Column"
   ]
  },
  {
   "attachments": {},
   "cell_type": "markdown",
   "metadata": {},
   "source": [
    "```SQL\n",
    "select province,\n",
    "count(distinct order_id) as total_order,\n",
    "sum(item_price) as total_price\n",
    "from sales_retail_2019\n",
    "group by province;\n",
    "```"
   ]
  },
  {
   "attachments": {},
   "cell_type": "markdown",
   "metadata": {},
   "source": [
    "## 3.6 Group by Multiple Column"
   ]
  },
  {
   "attachments": {},
   "cell_type": "markdown",
   "metadata": {},
   "source": [
    "```SQL\n",
    "select province,\n",
    "brand,\n",
    "count(distinct order_id) as total_order,\n",
    "sum(item_price) as total_price\n",
    "from sales_retail_2019\n",
    "group by province, brand;\n",
    "```"
   ]
  },
  {
   "attachments": {},
   "cell_type": "markdown",
   "metadata": {},
   "source": [
    "## 3.7 Fungsi Aggregate dengan Grouping"
   ]
  },
  {
   "attachments": {},
   "cell_type": "markdown",
   "metadata": {},
   "source": [
    "```SQL\n",
    "select province,\n",
    "count(distinct order_id) as total_unique_order,\n",
    "sum(item_price) as revenue\n",
    "from sales_retail_2019\n",
    "group by province;\n",
    "```"
   ]
  },
  {
   "attachments": {},
   "cell_type": "markdown",
   "metadata": {},
   "source": [
    "## 3.8 Tugas Praktek"
   ]
  },
  {
   "attachments": {},
   "cell_type": "markdown",
   "metadata": {},
   "source": [
    "```SQL\n",
    "SELECT month(order_date) AS order_month, sum(item_price) AS total_price, \n",
    "CASE  \n",
    "    WHEN sum(item_price) >= 30000000000 THEN 'target achieved'\n",
    "    WHEN sum(item_price) <= 25000000000 THEN 'less performed'\n",
    "    ELSE 'follow up'\n",
    "END as remark\n",
    "FROM sales_retail_2019\n",
    "GROUP BY order_month;\n",
    "```"
   ]
  },
  {
   "attachments": {},
   "cell_type": "markdown",
   "metadata": {},
   "source": [
    "# 4. Mini Project"
   ]
  },
  {
   "attachments": {},
   "cell_type": "markdown",
   "metadata": {},
   "source": [
    "## 4.1 Proyek Pekerjaan - Analisis Penjualan Part 1"
   ]
  },
  {
   "attachments": {},
   "cell_type": "markdown",
   "metadata": {},
   "source": [
    "```SQL\n",
    "## 1. Total jumlah seluruh penjualan (total/revenue).\n",
    "SELECT sum(total) as total \n",
    "FROM tr_penjualan;\n",
    "## 2. Total quantity seluruh produk yang terjual.\n",
    "SELECT sum(qty) as qty \n",
    "FROM tr_penjualan;\n",
    "## 3. Total quantity dan total revenue untuk setiap kode produk.\n",
    "SELECT kode_produk, sum(qty) as qty, sum(total) as total \n",
    "FROM tr_penjualan\n",
    "GROUP BY kode_produk;\n",
    "```"
   ]
  },
  {
   "attachments": {},
   "cell_type": "markdown",
   "metadata": {},
   "source": [
    "## 4.2 Proyek Pekerjaan - Analisis Penjualan Part 2"
   ]
  },
  {
   "attachments": {},
   "cell_type": "markdown",
   "metadata": {},
   "source": [
    "```SQL\n",
    "## 4. Rata - Rata total belanja per kode pelanggan.\n",
    "SELECT kode_pelanggan, avg(total) as avg_total \n",
    "FROM tr_penjualan\n",
    "GROUP BY kode_pelanggan;\n",
    "## 5. Selain itu,  jangan lupa untuk menambahkan kolom baru dengan nama ‘kategori’ yang mengkategorikan total/revenue ke dalam 3 kategori: High: > 300K; Medium: 100K - 300K; Low: <100K.\n",
    "SELECT kode_transaksi,kode_pelanggan,no_urut,kode_produk, nama_produk, qty, total,\n",
    "CASE  \n",
    "    WHEN total > 300000 THEN 'High'\n",
    "    WHEN total < 100000 THEN 'Low'   \n",
    "    ELSE 'Medium'  \n",
    "END as kategori \n",
    "FROM tr_penjualan;\n",
    "```"
   ]
  }
 ],
 "metadata": {
  "kernelspec": {
   "display_name": "srec",
   "language": "python",
   "name": "python3"
  },
  "language_info": {
   "name": "python",
   "version": "3.10.8 | packaged by conda-forge | (main, Nov 24 2022, 14:07:00) [MSC v.1916 64 bit (AMD64)]"
  },
  "orig_nbformat": 4,
  "vscode": {
   "interpreter": {
    "hash": "6d2847944c2ac7c39f466e47c58ba16e85cccd6db94063d510e9216e9bcdba96"
   }
  }
 },
 "nbformat": 4,
 "nbformat_minor": 2
}
